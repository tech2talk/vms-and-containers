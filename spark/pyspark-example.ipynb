{
 "cells": [
  {
   "cell_type": "markdown",
   "id": "9e44b01d",
   "metadata": {},
   "source": [
    "### You can click inside each cell and then click run or you can select everything and then click run.\n",
    "  \n",
    "### "
   ]
  },
  {
   "cell_type": "code",
   "execution_count": 1,
   "id": "367770cb",
   "metadata": {},
   "outputs": [],
   "source": [
    "%config IPCompleter.greedy=True"
   ]
  },
  {
   "cell_type": "code",
   "execution_count": 2,
   "id": "794b998a",
   "metadata": {},
   "outputs": [],
   "source": [
    "from pyspark.sql import SparkSession"
   ]
  },
  {
   "cell_type": "code",
   "execution_count": 3,
   "id": "df3e40c9",
   "metadata": {},
   "outputs": [],
   "source": [
    "# You can auto-complete the code by pressing tab after writing \n",
    "# few letters of it. Example, type (without quotes) \"SparkS\" \n",
    "# then press tab.\n",
    "\n",
    "spark = SparkSession.builder.appName(\"dataFrameExample\").getOrCreate()"
   ]
  },
  {
   "cell_type": "code",
   "execution_count": 4,
   "id": "5cb9e0be",
   "metadata": {},
   "outputs": [
    {
     "data": {
      "text/html": [
       "\n",
       "            <div>\n",
       "                <p><b>SparkSession - in-memory</b></p>\n",
       "                \n",
       "        <div>\n",
       "            <p><b>SparkContext</b></p>\n",
       "\n",
       "            <p><a href=\"http://10.0.2.15:4040\">Spark UI</a></p>\n",
       "\n",
       "            <dl>\n",
       "              <dt>Version</dt>\n",
       "                <dd><code>v3.1.1</code></dd>\n",
       "              <dt>Master</dt>\n",
       "                <dd><code>local[*]</code></dd>\n",
       "              <dt>AppName</dt>\n",
       "                <dd><code>dataFrameExample</code></dd>\n",
       "            </dl>\n",
       "        </div>\n",
       "        \n",
       "            </div>\n",
       "        "
      ],
      "text/plain": [
       "<pyspark.sql.session.SparkSession at 0x7f77d8fcdd30>"
      ]
     },
     "execution_count": 4,
     "metadata": {},
     "output_type": "execute_result"
    }
   ],
   "source": [
    "# Display the contents of sessoin. You can open the \"Spkar UI\" \n",
    "# link from output of this command in a new tab by right clicking on it.\n",
    "\n",
    "spark"
   ]
  },
  {
   "cell_type": "code",
   "execution_count": 5,
   "id": "afc485bd",
   "metadata": {},
   "outputs": [
    {
     "name": "stdout",
     "output_type": "stream",
     "text": [
      "--2021-04-25 23:48:12--  https://data.cityofnewyork.us/api/views/25th-nujf/rows.csv?accessType=DOWNLOAD\n",
      "Resolving data.cityofnewyork.us (data.cityofnewyork.us)... 52.206.140.205, 52.206.68.26, 52.206.140.199\n",
      "Connecting to data.cityofnewyork.us (data.cityofnewyork.us)|52.206.140.205|:443... connected.\n",
      "HTTP request sent, awaiting response... 200 OK\n",
      "Length: unspecified [text/csv]\n",
      "Saving to: ‘babynames’\n",
      "\n",
      "babynames               [   <=>              ]   1.14M  2.02MB/s    in 0.6s    \n",
      "\n",
      "2021-04-25 23:48:13 (2.02 MB/s) - ‘babynames’ saved [1192584]\n",
      "\n"
     ]
    }
   ],
   "source": [
    "# We are downloading data from data.cityofnewyork.us \n",
    "# It contains baby names for NY, you can read more about it here\n",
    "# https://data.cityofnewyork.us/Health/Popular-Baby-Names/25th-nujf\n",
    "\n",
    "!wget -O babynames https://data.cityofnewyork.us/api/views/25th-nujf/rows.csv?accessType=DOWNLOAD"
   ]
  },
  {
   "cell_type": "code",
   "execution_count": 6,
   "id": "df03e498",
   "metadata": {},
   "outputs": [],
   "source": [
    "# Lets create a DataFrame and while creating it, \n",
    "# we will rename some of the columns.\n",
    "\n",
    "namesdf = spark.read.option(\"header\", True) \\\n",
    "                    .option(\"inferSchema\", True) \\\n",
    "                    .format(\"csv\") \\\n",
    "                    .load(\"./babynames\") \\\n",
    "                    .withColumnRenamed(\"Child's First Name\", \"name\") \\\n",
    "                    .withColumnRenamed(\"Year of Birth\", \"birth_yr\").cache()"
   ]
  },
  {
   "cell_type": "code",
   "execution_count": 7,
   "id": "3520da98",
   "metadata": {},
   "outputs": [
    {
     "data": {
      "text/plain": [
       "29464"
      ]
     },
     "execution_count": 7,
     "metadata": {},
     "output_type": "execute_result"
    }
   ],
   "source": [
    "# This action will read all data and then try to cache it in memory.\n",
    "\n",
    "namesdf.count()"
   ]
  },
  {
   "cell_type": "code",
   "execution_count": 8,
   "id": "d05a117d",
   "metadata": {},
   "outputs": [
    {
     "data": {
      "text/plain": [
       "True"
      ]
     },
     "execution_count": 8,
     "metadata": {},
     "output_type": "execute_result"
    }
   ],
   "source": [
    "# Lets check if dataframe is cached or not. True means its cached in memory.\n",
    "\n",
    "namesdf.storageLevel.useMemory"
   ]
  },
  {
   "cell_type": "code",
   "execution_count": 9,
   "id": "1867e00e",
   "metadata": {},
   "outputs": [
    {
     "name": "stdout",
     "output_type": "stream",
     "text": [
      "+--------+------+---------+---------+-----+----+\n",
      "|birth_yr|Gender|Ethnicity|     name|Count|Rank|\n",
      "+--------+------+---------+---------+-----+----+\n",
      "|    2011|FEMALE| HISPANIC|GERALDINE|   13|  75|\n",
      "|    2011|FEMALE| HISPANIC|      GIA|   21|  67|\n",
      "|    2011|FEMALE| HISPANIC|   GIANNA|   49|  42|\n",
      "|    2011|FEMALE| HISPANIC|  GISELLE|   38|  51|\n",
      "|    2011|FEMALE| HISPANIC|    GRACE|   36|  53|\n",
      "+--------+------+---------+---------+-----+----+\n",
      "only showing top 5 rows\n",
      "\n"
     ]
    }
   ],
   "source": [
    "namesdf.show(5)"
   ]
  },
  {
   "cell_type": "code",
   "execution_count": 10,
   "id": "51cfbff9",
   "metadata": {
    "scrolled": true
   },
   "outputs": [
    {
     "name": "stdout",
     "output_type": "stream",
     "text": [
      "+--------+\n",
      "|birth_yr|\n",
      "+--------+\n",
      "|    2015|\n",
      "|    2013|\n",
      "|    2014|\n",
      "|    2012|\n",
      "|    2016|\n",
      "|    2011|\n",
      "|    2017|\n",
      "+--------+\n",
      "\n"
     ]
    }
   ],
   "source": [
    "# Lets look at how many years we have in this dataset using Spark functions. \n",
    "\n",
    "namesdf.select(\"birth_yr\").distinct().show()"
   ]
  },
  {
   "cell_type": "code",
   "execution_count": 11,
   "id": "9496a820",
   "metadata": {},
   "outputs": [],
   "source": [
    "# Lets create a view on this DataFrame so that we can run SQL.\n",
    "# Yes, we love SQL, don't we :)\n",
    "\n",
    "namesdf.createOrReplaceTempView(\"babynames\")"
   ]
  },
  {
   "cell_type": "code",
   "execution_count": 12,
   "id": "ad588759",
   "metadata": {},
   "outputs": [
    {
     "name": "stdout",
     "output_type": "stream",
     "text": [
      "+--------------------------+\n",
      "|ethnicity                 |\n",
      "+--------------------------+\n",
      "|ASIAN AND PACI            |\n",
      "|ASIAN AND PACIFIC ISLANDER|\n",
      "|BLACK NON HISP            |\n",
      "|BLACK NON HISPANIC        |\n",
      "|HISPANIC                  |\n",
      "|WHITE NON HISP            |\n",
      "|WHITE NON HISPANIC        |\n",
      "+--------------------------+\n",
      "\n"
     ]
    }
   ],
   "source": [
    "spark.sql(\"\"\"\n",
    "select distinct ethnicity\n",
    "from babynames\n",
    "order by 1\n",
    "\"\"\").show(20,False)\n",
    "\n",
    "# Different values have the same meaning, data needs cleanup."
   ]
  },
  {
   "cell_type": "code",
   "execution_count": 13,
   "id": "61a1ad8f",
   "metadata": {},
   "outputs": [
    {
     "name": "stdout",
     "output_type": "stream",
     "text": [
      "+--------------------------+------+--------+---+\n",
      "|ethnicity                 |Gender|name    |tot|\n",
      "+--------------------------+------+--------+---+\n",
      "|BLACK NON HISPANIC        |FEMALE|Aaliyah |9  |\n",
      "|HISPANIC                  |FEMALE|Aaliyah |9  |\n",
      "|WHITE NON HISPANIC        |MALE  |Aaron   |9  |\n",
      "|ASIAN AND PACIFIC ISLANDER|MALE  |Aaron   |9  |\n",
      "|HISPANIC                  |MALE  |Aaron   |9  |\n",
      "|BLACK NON HISPANIC        |MALE  |Aaron   |9  |\n",
      "|ASIAN AND PACIFIC ISLANDER|FEMALE|Abby    |9  |\n",
      "|ASIAN AND PACIFIC ISLANDER|MALE  |Abdullah|9  |\n",
      "|WHITE NON HISPANIC        |FEMALE|Abigail |9  |\n",
      "|WHITE NON HISPANIC        |FEMALE|Ada     |9  |\n",
      "+--------------------------+------+--------+---+\n",
      "only showing top 10 rows\n",
      "\n"
     ]
    }
   ],
   "source": [
    "# Clean and normalize ethnicity values with case when.\n",
    "\n",
    "spark.sql(\"\"\"\n",
    "\n",
    "    select         \n",
    "        case when ethnicity = 'ASIAN AND PACI' then 'ASIAN AND PACIFIC ISLANDER'\n",
    "        when ethnicity = 'BLACK NON HISP' then 'BLACK NON HISPANIC'\n",
    "        when ethnicity = 'WHITE NON HISP' then 'WHITE NON HISPANIC'\n",
    "        else ethnicity\n",
    "        end ethnicity,Gender, name, count(1) tot\n",
    "    from babynames\n",
    "        group by 1,2,3\n",
    "    order by tot desc, name\n",
    "\n",
    "\"\"\").show(10, False)"
   ]
  },
  {
   "cell_type": "code",
   "execution_count": 14,
   "id": "509ab17f",
   "metadata": {},
   "outputs": [
    {
     "name": "stdout",
     "output_type": "stream",
     "text": [
      "+--------------------------+------+-------+---+\n",
      "|ethnicity                 |Gender|name   |tot|\n",
      "+--------------------------+------+-------+---+\n",
      "|ASIAN AND PACIFIC ISLANDER|FEMALE|Natalie|9  |\n",
      "|ASIAN AND PACIFIC ISLANDER|MALE  |Kimi   |9  |\n",
      "|BLACK NON HISPANIC        |FEMALE|Amina  |9  |\n",
      "|BLACK NON HISPANIC        |MALE  |Kyle   |9  |\n",
      "|HISPANIC                  |FEMALE|Aylin  |9  |\n",
      "|HISPANIC                  |MALE  |Aaron  |9  |\n",
      "|WHITE NON HISPANIC        |FEMALE|Jane   |9  |\n",
      "|WHITE NON HISPANIC        |MALE  |Nicolas|9  |\n",
      "+--------------------------+------+-------+---+\n",
      "\n"
     ]
    }
   ],
   "source": [
    "# Lets look at most popular names for every Ethnicity, ignoring ties\n",
    "\n",
    "spark.sql(\"\"\"\n",
    "\n",
    "select ethnicity,Gender, name, tot\n",
    "from \n",
    "(\n",
    "    select ethnicity,Gender, name, tot, row_number() over (partition by ethnicity, Gender order by tot desc) rnk\n",
    "    from \n",
    "    (\n",
    "        select \n",
    "        \n",
    "        case when ethnicity = 'ASIAN AND PACI' then 'ASIAN AND PACIFIC ISLANDER'\n",
    "        when ethnicity = 'BLACK NON HISP' then 'BLACK NON HISPANIC'\n",
    "        when ethnicity = 'WHITE NON HISP' then 'WHITE NON HISPANIC'\n",
    "        else ethnicity\n",
    "        end ethnicity\n",
    "        ,Gender, name, count(1) tot\n",
    "        from babynames\n",
    "         \n",
    "        group by 1,2,3\n",
    "\n",
    "    ) t\n",
    ") \n",
    "where \n",
    "rnk  = 1\n",
    "order by 1,2\n",
    "\n",
    "\"\"\").show(100, False)"
   ]
  },
  {
   "cell_type": "markdown",
   "id": "59342f77",
   "metadata": {},
   "source": [
    "### Now you have an idea of how Spark and notebooks like Jupyter work, carry on!"
   ]
  },
  {
   "cell_type": "code",
   "execution_count": null,
   "id": "655cbff0",
   "metadata": {},
   "outputs": [],
   "source": []
  }
 ],
 "metadata": {
  "kernelspec": {
   "display_name": "Python 3",
   "language": "python",
   "name": "python3"
  },
  "language_info": {
   "codemirror_mode": {
    "name": "ipython",
    "version": 3
   },
   "file_extension": ".py",
   "mimetype": "text/x-python",
   "name": "python",
   "nbconvert_exporter": "python",
   "pygments_lexer": "ipython3",
   "version": "3.6.9"
  }
 },
 "nbformat": 4,
 "nbformat_minor": 5
}
